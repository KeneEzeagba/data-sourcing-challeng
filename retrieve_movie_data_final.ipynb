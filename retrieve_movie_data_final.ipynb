{
 "cells": [
  {
   "cell_type": "markdown",
   "metadata": {},
   "source": [
    "### Import Required Libraries and Set Up Environment Variables"
   ]
  },
  {
   "cell_type": "code",
   "execution_count": 1,
   "metadata": {
    "execution": {
     "iopub.execute_input": "2024-10-11T23:02:09.424929Z",
     "iopub.status.busy": "2024-10-11T23:02:09.424349Z",
     "iopub.status.idle": "2024-10-11T23:02:10.449037Z",
     "shell.execute_reply": "2024-10-11T23:02:10.447814Z"
    }
   },
   "outputs": [],
   "source": [
    "# Dependencies\n",
    "import requests\n",
    "import time\n",
    "from dotenv import load_dotenv\n",
    "import os\n",
    "import pandas as pd\n",
    "import json"
   ]
  },
  {
   "cell_type": "code",
   "execution_count": 2,
   "metadata": {
    "execution": {
     "iopub.execute_input": "2024-10-11T23:02:10.454962Z",
     "iopub.status.busy": "2024-10-11T23:02:10.454123Z",
     "iopub.status.idle": "2024-10-11T23:02:10.460883Z",
     "shell.execute_reply": "2024-10-11T23:02:10.459914Z"
    }
   },
   "outputs": [],
   "source": [
    "# Set environment variables from the .env in the local environment\n",
    "load_dotenv()\n",
    "\n",
    "nyt_api_key = os.getenv(\"NYT_API_KEY\")\n",
    "tmdb_api_key = os.getenv(\"TMDB_API_KEY\")"
   ]
  },
  {
   "cell_type": "markdown",
   "metadata": {},
   "source": [
    "### Access the New York Times API"
   ]
  },
  {
   "cell_type": "code",
   "execution_count": 3,
   "metadata": {
    "execution": {
     "iopub.execute_input": "2024-10-11T23:02:10.466337Z",
     "iopub.status.busy": "2024-10-11T23:02:10.465706Z",
     "iopub.status.idle": "2024-10-11T23:02:10.471729Z",
     "shell.execute_reply": "2024-10-11T23:02:10.470766Z"
    }
   },
   "outputs": [],
   "source": [
    "# Set the base URL\n",
    "url = \"https://api.nytimes.com/svc/search/v2/articlesearch.json?\"\n",
    "\n",
    "# Filter for movie reviews with \"love\" in the headline\n",
    "# section_name should be \"Movies\"\n",
    "# type_of_material should be \"Review\"\n",
    "filter_query = 'section_name:\"Movies\" AND type_of_material:\"Review\" AND headline:\"love\"'\n",
    "\n",
    "# Use a sort filter, sort by newest\n",
    "sort = \"newest\"\n",
    "\n",
    "# Select the following fields to return:\n",
    "# headline, web_url, snippet, source, keywords, pub_date, byline, word_count\n",
    "field_list = \"headline,web_url,snippet,source,keywords,pub_date,byline,word_count\"\n",
    "\n",
    "# Search for reviews published between a begin and end date\n",
    "begin_date = \"20130101\"\n",
    "end_date = \"20230531\"\n",
    "\n",
    "# Build URL\n"
   ]
  },
  {
   "cell_type": "code",
   "execution_count": 4,
   "metadata": {
    "execution": {
     "iopub.execute_input": "2024-10-11T23:02:10.476797Z",
     "iopub.status.busy": "2024-10-11T23:02:10.476277Z",
     "iopub.status.idle": "2024-10-11T23:02:10.480912Z",
     "shell.execute_reply": "2024-10-11T23:02:10.479712Z"
    }
   },
   "outputs": [],
   "source": [
    "\n",
    "import requests\n",
    "import time\n",
    "\n",
    "# Create an empty list to store the reviews\n",
    "reviews_list = []\n",
    "\n",
    "# loop through pages 0-19\n",
    "for page in range(20):\n",
    "    # Create query with a page number\n",
    "    query_url = f\"https://api.nytimes.com/svc/search/v2/articlesearch.json?q=love&fq=section_name:Movies&sort=newest&page={page}&api-key={os.getenv('NYT_API_KEY')}\"\n",
    "\n",
    "    try:\n",
    "        # Make a \"GET\" request and retrieve the JSON\n",
    "        response = requests.get(query_url)\n",
    "        reviews = response.json()\n",
    "\n",
    "        # Add a twelve second interval between queries to stay within API query limits\n",
    "        time.sleep(12)\n",
    "\n",
    "        # Try and save the reviews to the reviews_list\n",
    "        for review in reviews[\"response\"][\"docs\"]:\n",
    "            reviews_list.append(review)\n",
    "        \n",
    "        # Print the page that was just retrieved\n",
    "        print(f\"Page {page} retrieved successfully.\")\n",
    "\n",
    "    except Exception as e:\n",
    "        # Print the page number that had no results then break from the loop\n",
    "        print(f\"No results for page {page}. Error: {e}\")\n",
    "        break\n"
   ]
  },
  {
   "cell_type": "code",
   "execution_count": 5,
   "metadata": {
    "execution": {
     "iopub.execute_input": "2024-10-11T23:02:10.485305Z",
     "iopub.status.busy": "2024-10-11T23:02:10.484850Z",
     "iopub.status.idle": "2024-10-11T23:02:10.489342Z",
     "shell.execute_reply": "2024-10-11T23:02:10.488283Z"
    }
   },
   "outputs": [],
   "source": [
    "\n",
    "# Preview the first 5 results in JSON format\n",
    "formatted_tmdb_movies = json.dumps(tmdb_movies_list[:5], indent=4)\n",
    "print(formatted_tmdb_movies)\n"
   ]
  },
  {
   "cell_type": "code",
   "execution_count": 6,
   "metadata": {
    "execution": {
     "iopub.execute_input": "2024-10-11T23:02:10.493451Z",
     "iopub.status.busy": "2024-10-11T23:02:10.493092Z",
     "iopub.status.idle": "2024-10-11T23:02:10.497741Z",
     "shell.execute_reply": "2024-10-11T23:02:10.496996Z"
    }
   },
   "outputs": [],
   "source": [
    "\n",
    "import pandas as pd\n",
    "from pandas import json_normalize\n",
    "\n",
    "# Convert reviews_list to a Pandas DataFrame using json_normalize()\n",
    "reviews_df = json_normalize(reviews_list)\n",
    "\n",
    "# Extract the title from the \"headline.main\" column and save it to a new column \"title\"\n",
    "reviews_df['title'] = reviews_df['headline.main'].apply(lambda st: st[st.find(\"\\u2018\")+1:st.find(\"\\u2019 Review\")])\n",
    "\n",
    "# Extract 'name' and 'value' from items in \"keywords\" column\n",
    "def extract_keywords(keyword_list):\n",
    "    extracted_keywords = \"\"\n",
    "    for item in keyword_list:\n",
    "        # Extract 'name' and 'value'\n",
    "        keyword = f\"{item['name']}: {item['value']};\" \n",
    "        # Append the keyword item to the extracted_keywords list\n",
    "        extracted_keywords += keyword\n",
    "    return extracted_keywords\n",
    "\n",
    "# Fix the \"keywords\" column by converting cells from a list to a string\n",
    "reviews_df['keywords'] = reviews_df['keywords'].apply(lambda x: extract_keywords(x) if isinstance(x, list) else \"\")\n",
    "\n",
    "# Create a list from the \"title\" column using to_list()\n",
    "titles_list = reviews_df['title'].to_list()\n"
   ]
  },
  {
   "cell_type": "code",
   "execution_count": 7,
   "metadata": {
    "execution": {
     "iopub.execute_input": "2024-10-11T23:02:10.502232Z",
     "iopub.status.busy": "2024-10-11T23:02:10.501610Z",
     "iopub.status.idle": "2024-10-11T23:02:10.505863Z",
     "shell.execute_reply": "2024-10-11T23:02:10.505222Z"
    }
   },
   "outputs": [],
   "source": [
    "# Extract the title from the \"headline.main\" column and\n",
    "# save it to a new column \"title\"\n",
    "# Title is between unicode characters \\u2018 and \\u2019. \n",
    "# End string should include \" Review\" to avoid cutting title early\n"
   ]
  },
  {
   "cell_type": "code",
   "execution_count": 8,
   "metadata": {
    "execution": {
     "iopub.execute_input": "2024-10-11T23:02:10.512393Z",
     "iopub.status.busy": "2024-10-11T23:02:10.511638Z",
     "iopub.status.idle": "2024-10-11T23:02:10.517077Z",
     "shell.execute_reply": "2024-10-11T23:02:10.516166Z"
    }
   },
   "outputs": [],
   "source": [
    "# Extract 'name' and 'value' from items in \"keywords\" column\n",
    "def extract_keywords(keyword_list):\n",
    "    extracted_keywords = \"\"\n",
    "    for item in keyword_list:\n",
    "        # Extract 'name' and 'value'\n",
    "        keyword = f\"{item['name']}: {item['value']};\" \n",
    "        # Append the keyword item to the extracted_keywords list\n",
    "        extracted_keywords += keyword\n",
    "    return extracted_keywords\n",
    "\n",
    "# Fix the \"keywords\" column by converting cells from a list to a string\n"
   ]
  },
  {
   "cell_type": "code",
   "execution_count": 9,
   "metadata": {
    "execution": {
     "iopub.execute_input": "2024-10-11T23:02:10.521607Z",
     "iopub.status.busy": "2024-10-11T23:02:10.521069Z",
     "iopub.status.idle": "2024-10-11T23:02:10.526488Z",
     "shell.execute_reply": "2024-10-11T23:02:10.525636Z"
    },
    "scrolled": true
   },
   "outputs": [],
   "source": [
    "# Create a list from the \"title\" column using to_list()\n",
    "# These titles will be used in the query for The Movie Database\n"
   ]
  },
  {
   "cell_type": "markdown",
   "metadata": {},
   "source": [
    "### Access The Movie Database API"
   ]
  },
  {
   "cell_type": "code",
   "execution_count": 10,
   "metadata": {
    "execution": {
     "iopub.execute_input": "2024-10-11T23:02:10.530927Z",
     "iopub.status.busy": "2024-10-11T23:02:10.530448Z",
     "iopub.status.idle": "2024-10-11T23:02:10.535543Z",
     "shell.execute_reply": "2024-10-11T23:02:10.534520Z"
    }
   },
   "outputs": [],
   "source": [
    "\n",
    "import time\n",
    "\n",
    "# Prepare The Movie Database query\n",
    "url = \"https://api.themoviedb.org/3/search/movie?query=\"\n",
    "tmdb_key_string = \"&api_key=\" + os.getenv(\"TMDB_API_KEY\")\n",
    "\n",
    "# Create an empty list to store the results\n",
    "tmdb_movies_list = []\n",
    "\n",
    "# Create a request counter to sleep the requests after a multiple of 50 requests\n",
    "request_counter = 1\n",
    "\n",
    "# Loop through the titles\n",
    "for title in titles_list:\n",
    "    # Check if we need to sleep before making a request\n",
    "    if request_counter % 50 == 0:\n",
    "        print(\"Sleeping for 1 second after 50 requests\")\n",
    "        time.sleep(1)\n",
    "    \n",
    "    # Add 1 to the request counter\n",
    "    request_counter += 1\n",
    "    \n",
    "    # Perform a \"GET\" request for The Movie Database\n",
    "    query_url = f\"{url}{title}{tmdb_key_string}\"\n",
    "    response = requests.get(query_url)\n",
    "    movie_data = response.json()\n",
    "\n",
    "    # Include a try clause to search for the full movie details.\n",
    "    try:\n",
    "        # Get movie id\n",
    "        movie_id = movie_data['results'][0]['id']\n",
    "\n",
    "        # Make a request for the full movie details\n",
    "        movie_detail_url = f\"https://api.themoviedb.org/3/movie/{movie_id}?api_key={os.getenv('TMDB_API_KEY')}&language=en-US\"\n",
    "        movie_details = requests.get(movie_detail_url).json()\n",
    "\n",
    "        # Extract the genre names into a list\n",
    "        genres = [genre['name'] for genre in movie_details['genres']]\n",
    "\n",
    "        # Extract the spoken_languages' English name into a list\n",
    "        spoken_languages = [lang['english_name'] for lang in movie_details['spoken_languages']]\n",
    "\n",
    "        # Extract the production_countries' name into a list\n",
    "        production_countries = [country['name'] for country in movie_details['production_countries']]\n",
    "\n",
    "        # Add the relevant data to a dictionary and append it to the tmdb_movies_list list\n",
    "        tmdb_movies_list.append({\n",
    "            'title': title,\n",
    "            'original_title': movie_details['original_title'],\n",
    "            'budget': movie_details['budget'],\n",
    "            'original_language': movie_details['original_language'],\n",
    "            'homepage': movie_details['homepage'],\n",
    "            'overview': movie_details['overview'],\n",
    "            'popularity': movie_details['popularity'],\n",
    "            'runtime': movie_details['runtime'],\n",
    "            'revenue': movie_details['revenue'],\n",
    "            'release_date': movie_details['release_date'],\n",
    "            'vote_average': movie_details['vote_average'],\n",
    "            'vote_count': movie_details['vote_count'],\n",
    "            'genres': genres,\n",
    "            'spoken_languages': spoken_languages,\n",
    "            'production_countries': production_countries\n",
    "        })\n",
    "        \n",
    "        # Print out the title that was found\n",
    "        print(f\"Found movie details for: {title}\")\n",
    "    \n",
    "    except Exception as e:\n",
    "        # Print out a statement if a movie is not found\n",
    "        print(f\"Movie not found for title: {title}. Error: {e}\")\n"
   ]
  },
  {
   "cell_type": "code",
   "execution_count": 11,
   "metadata": {
    "execution": {
     "iopub.execute_input": "2024-10-11T23:02:10.539733Z",
     "iopub.status.busy": "2024-10-11T23:02:10.539414Z",
     "iopub.status.idle": "2024-10-11T23:02:10.544920Z",
     "shell.execute_reply": "2024-10-11T23:02:10.544041Z"
    }
   },
   "outputs": [],
   "source": [
    "# Create an empty list to store the results\n",
    "\n",
    "\n",
    "# Create a request counter to sleep the requests after a multiple\n",
    "# of 50 requests\n",
    "\n",
    "\n",
    "# Loop through the titles\n",
    "\n",
    "    # Check if we need to sleep before making a request\n",
    "\n",
    "\n",
    "    # Add 1 to the request counter\n",
    "\n",
    "    \n",
    "    # Perform a \"GET\" request for The Movie Database\n",
    "\n",
    "\n",
    "    # Include a try clause to search for the full movie details.\n",
    "    # Use the except clause to print out a statement if a movie\n",
    "    # is not found.\n",
    "\n",
    "        # Get movie id\n",
    "\n",
    "\n",
    "        # Make a request for a the full movie details\n",
    "\n",
    "\n",
    "        # Execute \"GET\" request with url\n",
    "\n",
    "        \n",
    "        # Extract the genre names into a list\n",
    "\n",
    "\n",
    "        # Extract the spoken_languages' English name into a list\n",
    "\n",
    "\n",
    "        # Extract the production_countries' name into a list\n",
    "\n",
    "\n",
    "        # Add the relevant data to a dictionary and\n",
    "        # append it to the tmdb_movies_list list\n",
    "\n",
    "        \n",
    "        # Print out the title that was found\n",
    "\n"
   ]
  },
  {
   "cell_type": "code",
   "execution_count": 12,
   "metadata": {
    "execution": {
     "iopub.execute_input": "2024-10-11T23:02:10.549220Z",
     "iopub.status.busy": "2024-10-11T23:02:10.548752Z",
     "iopub.status.idle": "2024-10-11T23:02:10.562467Z",
     "shell.execute_reply": "2024-10-11T23:02:10.561325Z"
    }
   },
   "outputs": [],
   "source": [
    "\n",
    "# Preview the first 5 results in JSON format\n",
    "formatted_tmdb_movies = json.dumps(tmdb_movies_list[:5], indent=4)\n",
    "print(formatted_tmdb_movies)\n"
   ]
  },
  {
   "cell_type": "code",
   "execution_count": 13,
   "metadata": {
    "execution": {
     "iopub.execute_input": "2024-10-11T23:02:10.568028Z",
     "iopub.status.busy": "2024-10-11T23:02:10.567598Z",
     "iopub.status.idle": "2024-10-11T23:02:10.571715Z",
     "shell.execute_reply": "2024-10-11T23:02:10.570669Z"
    }
   },
   "outputs": [],
   "source": [
    "\n",
    "# Convert the results to a DataFrame\n",
    "tmdb_df = pd.DataFrame(tmdb_movies_list)\n",
    "\n",
    "# Merge the New York Times reviews and TMDB DataFrames on title\n",
    "merged_df = pd.merge(reviews_df, tmdb_df, on=\"title\")\n",
    "\n",
    "# Remove list brackets and quotation marks on the columns containing lists\n",
    "# Create a list of the columns that need fixing\n",
    "columns_to_fix = ['genres', 'spoken_languages', 'production_countries']\n",
    "\n",
    "# Create a list of characters to remove\n",
    "characters_to_remove = [\"[\", \"]\", \"'\"]\n",
    "\n",
    "# Loop through the list of columns to fix\n",
    "for column in columns_to_fix:\n",
    "    # Convert the column to type 'str'\n",
    "    merged_df[column] = merged_df[column].astype(str)\n",
    "\n",
    "    # Loop through characters to remove\n",
    "    for char in characters_to_remove:\n",
    "        merged_df[column] = merged_df[column].str.replace(char, \"\")\n",
    "\n",
    "# Display the fixed DataFrame\n",
    "print(merged_df.head())\n"
   ]
  },
  {
   "cell_type": "markdown",
   "metadata": {},
   "source": [
    "### Merge and Clean the Data for Export"
   ]
  },
  {
   "cell_type": "code",
   "execution_count": 14,
   "metadata": {
    "execution": {
     "iopub.execute_input": "2024-10-11T23:02:10.576462Z",
     "iopub.status.busy": "2024-10-11T23:02:10.575754Z",
     "iopub.status.idle": "2024-10-11T23:02:10.580404Z",
     "shell.execute_reply": "2024-10-11T23:02:10.579313Z"
    },
    "scrolled": true
   },
   "outputs": [],
   "source": [
    "# Merge the New York Times reviews and TMDB DataFrames on title\n"
   ]
  },
  {
   "cell_type": "code",
   "execution_count": 15,
   "metadata": {
    "execution": {
     "iopub.execute_input": "2024-10-11T23:02:10.585129Z",
     "iopub.status.busy": "2024-10-11T23:02:10.584664Z",
     "iopub.status.idle": "2024-10-11T23:02:10.589031Z",
     "shell.execute_reply": "2024-10-11T23:02:10.588083Z"
    }
   },
   "outputs": [],
   "source": [
    "# Remove list brackets and quotation marks on the columns containing lists\n",
    "# Create a list of the columns that need fixing\n",
    "\n",
    "\n",
    "# Create a list of characters to remove\n",
    "\n",
    "\n",
    "# Loop through the list of columns to fix\n",
    "\n",
    "    # Convert the column to type 'str'\n",
    "\n",
    "\n",
    "    # Loop through characters to remove\n",
    "\n",
    "\n",
    "# Display the fixed DataFrame\n"
   ]
  },
  {
   "cell_type": "code",
   "execution_count": 16,
   "metadata": {
    "execution": {
     "iopub.execute_input": "2024-10-11T23:02:10.593286Z",
     "iopub.status.busy": "2024-10-11T23:02:10.592861Z",
     "iopub.status.idle": "2024-10-11T23:02:10.597445Z",
     "shell.execute_reply": "2024-10-11T23:02:10.596153Z"
    }
   },
   "outputs": [],
   "source": [
    "\n",
    "# Drop \"byline.person\" column\n",
    "merged_df = merged_df.drop(columns=[\"byline.person\"], errors='ignore')\n",
    "\n",
    "# Delete duplicate rows and reset index\n",
    "merged_df = merged_df.drop_duplicates().reset_index(drop=True)\n",
    "\n",
    "# Export data to CSV without the index\n",
    "merged_df.to_csv(\"merged_movie_data.csv\", index=False)\n"
   ]
  },
  {
   "cell_type": "code",
   "execution_count": 17,
   "metadata": {
    "execution": {
     "iopub.execute_input": "2024-10-11T23:02:10.602286Z",
     "iopub.status.busy": "2024-10-11T23:02:10.601827Z",
     "iopub.status.idle": "2024-10-11T23:02:10.606272Z",
     "shell.execute_reply": "2024-10-11T23:02:10.605374Z"
    }
   },
   "outputs": [],
   "source": [
    "# Delete duplicate rows and reset index\n"
   ]
  },
  {
   "cell_type": "code",
   "execution_count": 18,
   "metadata": {
    "execution": {
     "iopub.execute_input": "2024-10-11T23:02:10.611195Z",
     "iopub.status.busy": "2024-10-11T23:02:10.610630Z",
     "iopub.status.idle": "2024-10-11T23:02:10.615246Z",
     "shell.execute_reply": "2024-10-11T23:02:10.614231Z"
    }
   },
   "outputs": [],
   "source": [
    "# Export data to CSV without the index\n"
   ]
  },
  {
   "cell_type": "code",
   "execution_count": null,
   "metadata": {},
   "outputs": [],
   "source": []
  }
 ],
 "metadata": {
  "kernelspec": {
   "display_name": "Python 3 (ipykernel)",
   "language": "python",
   "name": "python3"
  },
  "language_info": {
   "codemirror_mode": {
    "name": "ipython",
    "version": 3
   },
   "file_extension": ".py",
   "mimetype": "text/x-python",
   "name": "python",
   "nbconvert_exporter": "python",
   "pygments_lexer": "ipython3",
   "version": "3.11.8"
  },
  "varInspector": {
   "cols": {
    "lenName": 16,
    "lenType": 16,
    "lenVar": 40
   },
   "kernels_config": {
    "python": {
     "delete_cmd_postfix": "",
     "delete_cmd_prefix": "del ",
     "library": "var_list.py",
     "varRefreshCmd": "print(var_dic_list())"
    },
    "r": {
     "delete_cmd_postfix": ") ",
     "delete_cmd_prefix": "rm(",
     "library": "var_list.r",
     "varRefreshCmd": "cat(var_dic_list()) "
    }
   },
   "types_to_exclude": [
    "module",
    "function",
    "builtin_function_or_method",
    "instance",
    "_Feature"
   ],
   "window_display": false
  }
 },
 "nbformat": 4,
 "nbformat_minor": 2
}
